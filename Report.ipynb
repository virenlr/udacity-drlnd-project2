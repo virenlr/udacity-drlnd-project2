{
 "cells": [
  {
   "cell_type": "markdown",
   "metadata": {},
   "source": [
    "# Continuous Control\n",
    "\n",
    "---\n",
    "\n",
    "In this notebook, you will learn how to use the Unity ML-Agents environment for the second project of the [Deep Reinforcement Learning Nanodegree](https://www.udacity.com/course/deep-reinforcement-learning-nanodegree--nd893) program.\n",
    "\n",
    "### 1. Start the Environment\n",
    "\n",
    "We begin by importing the necessary packages.  If the code cell below returns an error, please revisit the project instructions to double-check that you have installed [Unity ML-Agents](https://github.com/Unity-Technologies/ml-agents/blob/master/docs/Installation.md) and [NumPy](http://www.numpy.org/)."
   ]
  },
  {
   "cell_type": "code",
   "execution_count": 1,
   "metadata": {},
   "outputs": [],
   "source": [
    "from unityagents import UnityEnvironment\n",
    "import numpy as np"
   ]
  },
  {
   "cell_type": "markdown",
   "metadata": {},
   "source": [
    "Next, we will start the environment!  **_Before running the code cell below_**, change the `file_name` parameter to match the location of the Unity environment that you downloaded.\n",
    "\n",
    "- **Mac**: `\"path/to/Reacher.app\"`\n",
    "- **Windows** (x86): `\"path/to/Reacher_Windows_x86/Reacher.exe\"`\n",
    "- **Windows** (x86_64): `\"path/to/Reacher_Windows_x86_64/Reacher.exe\"`\n",
    "- **Linux** (x86): `\"path/to/Reacher_Linux/Reacher.x86\"`\n",
    "- **Linux** (x86_64): `\"path/to/Reacher_Linux/Reacher.x86_64\"`\n",
    "- **Linux** (x86, headless): `\"path/to/Reacher_Linux_NoVis/Reacher.x86\"`\n",
    "- **Linux** (x86_64, headless): `\"path/to/Reacher_Linux_NoVis/Reacher.x86_64\"`\n",
    "\n",
    "For instance, if you are using a Mac, then you downloaded `Reacher.app`.  If this file is in the same folder as the notebook, then the line below should appear as follows:\n",
    "```\n",
    "env = UnityEnvironment(file_name=\"Reacher.app\")\n",
    "```"
   ]
  },
  {
   "cell_type": "code",
   "execution_count": 2,
   "metadata": {},
   "outputs": [
    {
     "name": "stderr",
     "output_type": "stream",
     "text": [
      "INFO:unityagents:\n",
      "'Academy' started successfully!\n",
      "Unity Academy name: Academy\n",
      "        Number of Brains: 1\n",
      "        Number of External Brains : 1\n",
      "        Lesson number : 0\n",
      "        Reset Parameters :\n",
      "\t\tgoal_speed -> 1.0\n",
      "\t\tgoal_size -> 5.0\n",
      "Unity brain name: ReacherBrain\n",
      "        Number of Visual Observations (per agent): 0\n",
      "        Vector Observation space type: continuous\n",
      "        Vector Observation space size (per agent): 33\n",
      "        Number of stacked Vector Observation: 1\n",
      "        Vector Action space type: continuous\n",
      "        Vector Action space size (per agent): 4\n",
      "        Vector Action descriptions: , , , \n"
     ]
    }
   ],
   "source": [
    "env = UnityEnvironment(file_name='C://Users/viren/Desktop/p2_continuous-control/Reacher_Windows_x86_64/Reacher.exe')"
   ]
  },
  {
   "cell_type": "markdown",
   "metadata": {},
   "source": [
    "Environments contain **_brains_** which are responsible for deciding the actions of their associated agents. Here we check for the first brain available, and set it as the default brain we will be controlling from Python."
   ]
  },
  {
   "cell_type": "code",
   "execution_count": 3,
   "metadata": {},
   "outputs": [],
   "source": [
    "# get the default brain\n",
    "brain_name = env.brain_names[0]\n",
    "brain = env.brains[brain_name]"
   ]
  },
  {
   "cell_type": "markdown",
   "metadata": {},
   "source": [
    "### 2. Examine the State and Action Spaces\n",
    "\n",
    "In this environment, a double-jointed arm can move to target locations. A reward of `+0.1` is provided for each step that the agent's hand is in the goal location. Thus, the goal of your agent is to maintain its position at the target location for as many time steps as possible.\n",
    "\n",
    "The observation space consists of `33` variables corresponding to position, rotation, velocity, and angular velocities of the arm.  Each action is a vector with four numbers, corresponding to torque applicable to two joints.  Every entry in the action vector must be a number between `-1` and `1`.\n",
    "\n",
    "Run the code cell below to print some information about the environment."
   ]
  },
  {
   "cell_type": "code",
   "execution_count": 4,
   "metadata": {},
   "outputs": [
    {
     "name": "stdout",
     "output_type": "stream",
     "text": [
      "Number of agents: 20\n",
      "Size of each action: 4\n",
      "There are 20 agents. Each observes a state with length: 33\n",
      "The state for the first agent looks like: [ 0.00000000e+00 -4.00000000e+00  0.00000000e+00  1.00000000e+00\n",
      " -0.00000000e+00 -0.00000000e+00 -4.37113883e-08  0.00000000e+00\n",
      "  0.00000000e+00  0.00000000e+00  0.00000000e+00  0.00000000e+00\n",
      "  0.00000000e+00  0.00000000e+00 -1.00000000e+01  0.00000000e+00\n",
      "  1.00000000e+00 -0.00000000e+00 -0.00000000e+00 -4.37113883e-08\n",
      "  0.00000000e+00  0.00000000e+00  0.00000000e+00  0.00000000e+00\n",
      "  0.00000000e+00  0.00000000e+00  5.75471878e+00 -1.00000000e+00\n",
      "  5.55726624e+00  0.00000000e+00  1.00000000e+00  0.00000000e+00\n",
      " -1.68164849e-01]\n"
     ]
    }
   ],
   "source": [
    "# reset the environment\n",
    "env_info = env.reset(train_mode=True)[brain_name]\n",
    "\n",
    "# number of agents\n",
    "num_agents = len(env_info.agents)\n",
    "print('Number of agents:', num_agents)\n",
    "\n",
    "# size of each action\n",
    "action_size = brain.vector_action_space_size\n",
    "print('Size of each action:', action_size)\n",
    "\n",
    "# examine the state space \n",
    "states = env_info.vector_observations\n",
    "state_size = states.shape[1]\n",
    "print('There are {} agents. Each observes a state with length: {}'.format(states.shape[0], state_size))\n",
    "print('The state for the first agent looks like:', states[0])"
   ]
  },
  {
   "cell_type": "markdown",
   "metadata": {},
   "source": [
    "### 3. Take Random Actions in the Environment\n",
    "\n",
    "In the next code cell, you will learn how to use the Python API to control the agent and receive feedback from the environment.\n",
    "\n",
    "Once this cell is executed, you will watch the agent's performance, if it selects an action at random with each time step.  A window should pop up that allows you to observe the agent, as it moves through the environment.  \n",
    "\n",
    "Of course, as part of the project, you'll have to change the code so that the agent is able to use its experience to gradually choose better actions when interacting with the environment!"
   ]
  },
  {
   "cell_type": "code",
   "execution_count": 5,
   "metadata": {},
   "outputs": [],
   "source": [
    "# env_info = env.reset(train_mode=False)[brain_name]     # reset the environment    \n",
    "# states = env_info.vector_observations                  # get the current state (for each agent)\n",
    "# scores = np.zeros(num_agents)                          # initialize the score (for each agent)\n",
    "# while True:\n",
    "#     actions = np.random.randn(num_agents, action_size) # select an action (for each agent)\n",
    "#     actions = np.clip(actions, -1, 1)                  # all actions between -1 and 1\n",
    "#     env_info = env.step(actions)[brain_name]           # send all actions to tne environment\n",
    "#     next_states = env_info.vector_observations         # get next state (for each agent)\n",
    "#     rewards = env_info.rewards                         # get reward (for each agent)\n",
    "#     dones = env_info.local_done                        # see if episode finished\n",
    "#     scores += env_info.rewards                         # update the score (for each agent)\n",
    "#     states = next_states                               # roll over states to next time step\n",
    "#     if np.any(dones):                                  # exit loop if episode finished\n",
    "#         break\n",
    "# print('Total score (averaged over agents) this episode: {}'.format(np.mean(scores)))"
   ]
  },
  {
   "cell_type": "markdown",
   "metadata": {},
   "source": [
    "When finished, you can close the environment."
   ]
  },
  {
   "cell_type": "code",
   "execution_count": 6,
   "metadata": {},
   "outputs": [],
   "source": [
    "# env.close()"
   ]
  },
  {
   "cell_type": "markdown",
   "metadata": {},
   "source": [
    "### 4. It's Your Turn!\n",
    "\n",
    "Now it's your turn to train your own agent to solve the environment!  When training the environment, set `train_mode=True`, so that the line for resetting the environment looks like the following:\n",
    "```python\n",
    "env_info = env.reset(train_mode=True)[brain_name]\n",
    "```"
   ]
  },
  {
   "cell_type": "markdown",
   "metadata": {},
   "source": [
    "### Report"
   ]
  },
  {
   "cell_type": "markdown",
   "metadata": {},
   "source": [
    "So far, we have loaded our Unity environment and tested a random agent to ensure that everything works as expected. Now begins the code that will train and use a DDPG agent to solve the problem.\n",
    "\n",
    "Let us start by importing all the remaining files we need to make this happen. Please note that the line **from ddpg_agent import Agent** uses a modified version of the DDPG code used in the Pendulum project present in Udacity's Github repository for this nanodegree. This file (and its dependencies *Actor* and *Critic* from the *model.py* file) are also imported at this stage."
   ]
  },
  {
   "cell_type": "code",
   "execution_count": 7,
   "metadata": {},
   "outputs": [],
   "source": [
    "import torch\n",
    "\n",
    "from collections import deque\n",
    "\n",
    "from ddpg_agent import Agent\n",
    "\n",
    "import matplotlib.pyplot as plt\n",
    "%matplotlib inline"
   ]
  },
  {
   "cell_type": "markdown",
   "metadata": {},
   "source": [
    "We will now instantiate the agent. The observation space consists of 33 variables corresponding to the position, rotation, velocity, and angular velocities of the arm. Each action is a vector with four numbers, corresponding to torque applicable to two joints. Every entry in the action vector is a number between -1 and 1.\n",
    "\n",
    "All this information is passed to our agent in the next code cell."
   ]
  },
  {
   "cell_type": "code",
   "execution_count": 8,
   "metadata": {},
   "outputs": [],
   "source": [
    "agent = Agent(state_size, action_size, random_seed=2)"
   ]
  },
  {
   "cell_type": "markdown",
   "metadata": {},
   "source": [
    "#### 1. Learning Algorithm"
   ]
  },
  {
   "cell_type": "markdown",
   "metadata": {},
   "source": [
    "**Explanation of the Learning Algorithm**\n",
    "\n",
    "**Actor-Critic Methods** are at the intersection of value-based methods such as DQN and policy-based methods such as REINFORCE.\n",
    "\n",
    "Suppose a Deep Reinforcement Learning agent uses a Deep Neural Network to approximate a value function. In that case, the agent is said to be value-based, and if it uses it to approximate a policy, it is said to be policy-based. If the agent learns a value-function well, deriving a good policy from it is straightforward.\n",
    "\n",
    "We learned about using baselines to reduce the variance of policy-based agents. We can use a value function as the baseline; if we train a Neural Network to approximate a value-function and use it as a baseline, we will get a better baseline, further reducing the policy-based method's variance. Actor-Critic methods use value-based techniques to further reduce the variance of policy-based methods.\n",
    "\n",
    "We need to consider the bias-variance tradeoff in Reinforcement Learning when an agent tries to estimate value-functions or policies from returns. A return is calculated using a single trajectory. However, the value-functions we are trying to estimate are computed using the expectation of returns.\n",
    "\n",
    "Ways to estimate expected returns:\n",
    "\n",
    "-  Monte Carlo estimate: We roll out an episode and calculate the discounted total reward from the reward sequence. Here, we just add all the rewards up, whether they are discounted or not. When we have a collection of episodes, some will have trajectories that go through the same states. Each of these episodes can yield a different Monte-Carlo estimate for the same value-function. To calculate the value-function, we average the estimates. More estimates produce a better value-function.\n",
    "\n",
    "- Temporal Difference estimate: Say we're estimating a state-value function. To estimate the current state's value, we use a single reward sample and an estimate of the total discounted return the agent will obtain from the next state onwards. Thus, we are estimating with an estimate. In the early stages, the following state estimates will be terrible, but it improves with time.\n",
    "\n",
    "Monte Carlo estimates will have high variance because estimates for a state can vary significantly across episodes but are unbiased. After all, we are not estimating using estimates, only with the real rewards obtained.\n",
    "\n",
    "Temporal Difference estimates are low variance because we only compound a single time-step of randomness instead of a full rollout. However, the bias will be high because we are estimating with estimates (bootstrapping).\n",
    "\n",
    "In REINFORCE, the return G was calculated as the total discounted return. This way of calculating G, which is simply a Monte Carlo estimate, has high variance. We then used a baseline to reduce the variance of the algorithm. However, this baseline was also calculated using the Monte Carlo approach. Assuming we use Deep Learning to learn this baseline (i.e., Function Approximation), still provides an advantage- the power of generalization. When we encounter a new state S', irrespective of whether we had visited it, the DNN will potentially come up with better estimates since it has been trained to generalize from similar data.\n",
    "\n",
    "Suppose we train the baseline with Temporal Difference estimates instead of Monte Carlo estimates. In that case, we can say we have a Critic. This will introduce bias but will cause a decrease in variance, improving convergence and speeding up learning. In Actor-Critic methods, we are trying to reduce the high variance commonly associated with policy-based agents.\n",
    "\n",
    "Actor-Critic agents are more stable than value-based agents and need fewer samples than policy-based agents.\n",
    "\n",
    "An Actor-Critic agent uses Function Approximation to learn a policy and a value function. We use two Neural Networks here- one for the Actor and one for the Critic. The Critic will learn to evaluate the state-value function Vπ using the Temporal Difference estimate. Using the Critic, we calculate the Advantage Function and train the Actor using this value.\n",
    "\n",
    "In the case of a simple Actor-Critic network, the Actor takes in a state and outputs the distribution over actions. The Critic takes in a state and outputs a state-value function of policy π, Vπ. We start by inputting the current state into the Actor and get the action to take in that state. We observe the next state and reward to get the experience tuple (s, a, r, s'). Then, we train the Critic with the Temporal Difference estimate, which is the reward r plus the Critic's estimate for s'.\n",
    "\n",
    "(s, a, r, s') → r  + γV(s'; θv)\n",
    "\n",
    "To calculate the Advantage:\n",
    "\n",
    "Aπ(s, a) = r + γV(s'; θv) - V(s; θv) (Where V(s; θv) comes from the Critic).\n",
    "\n",
    "We then train the Actor using the calculated Advantage as the baseline."
   ]
  },
  {
   "cell_type": "markdown",
   "metadata": {},
   "source": [
    "**DDPG (Deep Deterministic Policy Gradient):** This is a type of Actor-Critic method and can be seen as an approximate Deep Q-Network instead of an actual Actor-Critic. Here, the Critic is used to approximate the maximizer over the next state's Q-values and not as a learned baseline.\n",
    "\n",
    "One of the limitations of the Deep Q-Learning agent is that it is not straightforward to use in continuous action spaces. In DDPG, we use two neural networks- the \"Actor\" and the \"Critic\" (different from the terminology used before). The Actor is used to approximate the optimal policy deterministically- outputting the best-believed action for any given state. This is unlike stochastic policies, where we want the policy to learn a probability distribution over the actions. The Actor essentially learns the arg_max a Q(s, a), which is the best action. The Critic learns to evaluate the optimal action-value function by using the action the Actor believes to be the best. We use the Actor, an approximate maximizer, to calculate a new target value for training the action-value function in the way Deep Q-Networks do.\n",
    "\n",
    "DDPGs use Replay Buffers and make \"soft-updates\" to the target networks. In Deep Q-Networks, we maintain two copies of the network weights, the regular and target networks. The target network is updated, say, every 10,000-time steps, by copying the regular network's weights. In DDPGs, there are 4 networks- a regular and a target for the Actor and the Critic. The target networks are updated with soft-updates, that is, slowly blending the regular network weights with the target's, over a period of time, and not all at once. In practice, this yields faster convergence and can be used with other algorithms that use target networks."
   ]
  },
  {
   "cell_type": "markdown",
   "metadata": {},
   "source": [
    "**Explanation of Hyperparameters used**\n",
    "\n",
    "`BUFFER_SIZE = int(1e5)`\n",
    "\n",
    "The size of the Replay Buffer that holds tuples of experiences that can be selected multiple times.\n",
    "\n",
    "`BATCH_SIZE = 128`\n",
    "\n",
    "The number of entries from the Replay Buffer that are considered a part of each batch.\n",
    "\n",
    "`GAMMA = 0.99`\n",
    "\n",
    "The hyperparameter that prioritizes how much weightage is given to recently received rewards, as compared to previous rewards.\n",
    "\n",
    "`TAU = 1e-3`\n",
    "\n",
    "The architecture makes use of two networks (for the Actor and Critic, each)- a fixed network and a target network. This hyperparameter is used for providing soft updates to the target network; i.e., instead of updating the values all at once, the process happens gradually, controlled with this hyperparameter.\n",
    "\n",
    "`LR_ACTOR = 1e-4`\n",
    "\n",
    "The learning rate with which the Actor model learns.\n",
    "\n",
    "`LR_CRITIC = 1e-3`\n",
    "\n",
    "The learning rate with which the Critic model learns.\n",
    "\n",
    "`WEIGHT_DECAY = 0`\n",
    "\n",
    "The L2 weight decay used to enhance the speed of convergence.\n",
    "\n",
    "`NUM_LEARN_UPDATES = 10`\n",
    "\n",
    "The number of epochs of learning that happen at update time.\n",
    "\n",
    "`NUM_TIME_STEPS_TO_UPDATE = 20`\n",
    "\n",
    "After how many time steps to update the network."
   ]
  },
  {
   "cell_type": "markdown",
   "metadata": {},
   "source": [
    "**Explanation of Model Architecture**\n",
    "\n",
    "There are a total of four networks- a regular and target for the Actor, and a regular and target for the Critic. All networks have identical architectures as follows:\n",
    "\n",
    "They consist of an input layer with 33 nodes (for the 33 dimension vector provided as the state), followed by two layers of 400 and 300 neurons respectively. ReLu activations are used to maintain the non-linearity in the models. The output layer consists of four nodes, representing a vector of the continuous action the agent must take. Tanh activations at this layer ensure that the output lies between -1 and +1."
   ]
  },
  {
   "cell_type": "markdown",
   "metadata": {},
   "source": [
    "**Explanation of Training Process**\n",
    "\n",
    "Here, I will outline the steps I took before arriving at a satisfactory model architecture.\n",
    "\n",
    "Trial 1: I started with the single-agent environment and directly ported the DDPG code from Udacity's GitHub repository corresponding to the Pendulum project. While the program ran with little modification, the agent refused to learn.\n",
    "\n",
    "I tried everything- adding Batch Normalization after the first layer, tweaks in the hyperparameters, and running the training for 2000 episodes. Nothing worked. I gave up and switched over to the multi-agent environment.\n",
    "\n",
    "Trial 2: I had to make some changes to the ddpg_agent.py file to adapt the code to work with 20 agents in parallel.\n",
    "\n",
    "I added two new hyperparameters `NUM_LEARN_UPDATES = 10` and `NUM_TIME_STEPS_TO_UPDATE = 20` with the hints provided in the classroom.\n",
    "\n",
    "I also had to update the `step` method to 1. save the experiences of all 20 agents in the buffer, 2. update the models on every 20th time step, and 3. perform 10 epochs of updation during update-time.\n",
    "\n",
    "```\n",
    "# Save experience / reward for ALL the 20 agents:\n",
    "\n",
    "for i in range (20):\n",
    "    self.memory.add(state[i,:], action[i,:], reward[i], next_state[i,:], done[i])\n",
    "    \n",
    "# The following lines of code ensure that updates only take place on every Nth specified time step\n",
    "\n",
    "if time_step % NUM_TIME_STEPS_TO_UPDATE != 0:\n",
    "    return\n",
    "    \n",
    "# The loop here causes NUM_LEARN_UPDATES epochs of learning to happen at updation time\n",
    "\n",
    "for i in range(NUM_LEARN_UPDATES):\n",
    "    experiences = self.memory.sample()\n",
    "    self.learn(experiences, GAMMA)\n",
    "```\n",
    "\n",
    "Lastly, based on a suggestion I saw in a [GitHub pull request](https://github.com/udacity/deep-reinforcement-learning/pull/19) to the project, I changed the `sample` method in the OUNoise class.\n",
    "\n",
    "```\n",
    "dx = self.theta * (self.mu - x) + self.sigma * np.random.standard_normal((20, 4)) # 20 agents and 4 actions\n",
    "```\n",
    "\n",
    "With these changes, and with removing the max number of time steps per episode from the below method, the agent trained perfectly."
   ]
  },
  {
   "cell_type": "code",
   "execution_count": 9,
   "metadata": {},
   "outputs": [
    {
     "name": "stdout",
     "output_type": "stream",
     "text": [
      "Episode 100\tAverage Score: 10.15\n",
      "Episode 182\tAverage Score: 30.08\n",
      "Environment solved in 82 episodes!\tAverage Score: 30.08\n"
     ]
    }
   ],
   "source": [
    "def ddpg(n_episodes=1000, print_every=100):\n",
    "    scores_deque = deque(maxlen=print_every)\n",
    "    avg_score_tracker = []\n",
    "    for i_episode in range(1, n_episodes+1):\n",
    "        \n",
    "        # Instead of saying: state = env.reset(), we must first create an env_info object as shown above\n",
    "        env_info = env.reset(train_mode=True)[brain_name]\n",
    "        states = env_info.vector_observations\n",
    "        \n",
    "        agent.reset()\n",
    "        scores = np.zeros(num_agents)                                  # initialize the score (for each agent)\n",
    "        \n",
    "        t = 0\n",
    "        \n",
    "        while(True):\n",
    "            t = t+1\n",
    "            actions = agent.act(states)                                # select an action (for each agent)\n",
    "            \n",
    "            # Instead of saying: next_state, reward, done, _ = env.step(action), we must do this step as shown above\n",
    "            \n",
    "            env_info = env.step(actions)[brain_name]                   # send all actions to tne environment\n",
    "            next_states = env_info.vector_observations                 # get next states (for each agent)\n",
    "            rewards = env_info.rewards                                 # get the reward (for each agent)\n",
    "            dones = env_info.local_done                                # see if episode has finished\n",
    "            \n",
    "            # Pass in the time step as well so the agent knows when it needs to update\n",
    "            agent.step(t, states, actions, rewards, next_states, dones)\n",
    "            \n",
    "            states = next_states                                       # roll over states to next time step\n",
    "            scores += rewards                                          # update the score (for each agent)\n",
    "            \n",
    "            if np.any(dones):                                          # exit loop if episode finished\n",
    "                break\n",
    "                \n",
    "        scores_deque.append(np.mean(scores))\n",
    "        avg_score_tracker.append(np.mean(scores))\n",
    "        \n",
    "        print('\\rEpisode {}\\tAverage Score: {:.2f}'.format(i_episode, np.mean(scores_deque)), end=\"\")\n",
    "        \n",
    "        if i_episode % print_every == 0:\n",
    "            print('\\rEpisode {}\\tAverage Score: {:.2f}'.format(i_episode, np.mean(scores_deque)))\n",
    "            \n",
    "        if np.mean(scores_deque)>=30.0:\n",
    "            print('\\nEnvironment solved in {:d} episodes!\\tAverage Score: {:.2f}'.format(i_episode-100, np.mean(scores_deque)))\n",
    "            torch.save(agent.actor_local.state_dict(), 'checkpoint_actor.pth')\n",
    "            torch.save(agent.critic_local.state_dict(), 'checkpoint_critic.pth')\n",
    "            break\n",
    "            \n",
    "    return avg_score_tracker\n",
    "\n",
    "scores = ddpg()"
   ]
  },
  {
   "cell_type": "markdown",
   "metadata": {},
   "source": [
    "#### 2. Plot of Rewards\n",
    "\n",
    "This plot of rewards per episode has been included to illustrate that the agents, on average, are capable of receiving an average reward of +30 over the last 100 episodes. From the previous code cell, we see that we have solved the environment in **82** episodes."
   ]
  },
  {
   "cell_type": "code",
   "execution_count": 10,
   "metadata": {},
   "outputs": [
    {
     "data": {
      "image/png": "[encoded data removed]",
      "text/plain": [
       "<Figure size 432x288 with 1 Axes>"
      ]
     },
     "metadata": {
      "needs_background": "light"
     },
     "output_type": "display_data"
    }
   ],
   "source": [
    "fig = plt.figure()\n",
    "ax = fig.add_subplot(111)\n",
    "plt.plot(np.arange(1, len(scores)+1), scores)\n",
    "plt.ylabel('Score')\n",
    "plt.xlabel('Episode #')\n",
    "plt.show()"
   ]
  },
  {
   "cell_type": "markdown",
   "metadata": {},
   "source": [
    "We can now go ahead and close the environment."
   ]
  },
  {
   "cell_type": "code",
   "execution_count": 11,
   "metadata": {},
   "outputs": [],
   "source": [
    "env.close()"
   ]
  },
  {
   "cell_type": "markdown",
   "metadata": {},
   "source": [
    "#### 3. Ideas for Future Work"
   ]
  },
  {
   "cell_type": "markdown",
   "metadata": {},
   "source": [
    "Having gone through Udacity's *Knowledge* portal, I see there are many things I can experiment with:\n",
    "\n",
    "- Some people have gotten better performance with using a bigger buffer or minibatch size, different learning rates, and different architectures for the DNNs that correspond to the Actor and Critic.\n",
    "\n",
    "- Other algorithms covered in the lecture like A3C, A2C, and GAE.\n",
    "\n",
    "- Adapting the code to work with the Unity Crawler environment that involves not one, but four arms, working in tandem."
   ]
  }
 ],
 "metadata": {
  "kernelspec": {
   "display_name": "drlnd",
   "language": "python",
   "name": "drlnd"
  },
  "language_info": {
   "codemirror_mode": {
    "name": "ipython",
    "version": 3
   },
   "file_extension": ".py",
   "mimetype": "text/x-python",
   "name": "python",
   "nbconvert_exporter": "python",
   "pygments_lexer": "ipython3",
   "version": "3.6.12"
  }
 },
 "nbformat": 4,
 "nbformat_minor": 2
}
